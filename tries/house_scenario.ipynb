{
 "cells": [
  {
   "cell_type": "code",
   "execution_count": 1,
   "metadata": {},
   "outputs": [],
   "source": [
    "import torch"
   ]
  },
  {
   "cell_type": "code",
   "execution_count": 2,
   "metadata": {},
   "outputs": [],
   "source": [
    "import numpy as np"
   ]
  },
  {
   "cell_type": "markdown",
   "metadata": {},
   "source": [
    "# Generator Rule\n",
    "## cell type\n",
    "\n",
    "- name: 셀 이름\n",
    "- connection_info: \n",
    "    - type: \n",
    "        - free: 연결 제한이 없음\n",
    "        - restricted: 제한이 있음\n",
    "        \n",
    "    - restriction_map: 리스트로 해당 index의 cell과 연결될 수 있으면, 연결 가능 갯수 N개 또는 없으면 0"
   ]
  },
  {
   "cell_type": "code",
   "execution_count": 3,
   "metadata": {},
   "outputs": [],
   "source": [
    "# cell type index: cell name\n",
    "cell_type_dict = {\n",
    "    '0': 'entrance',\n",
    "    '1': 'bed_room',\n",
    "    '2': 'bath_room',\n",
    "    '3': 'kitchen',\n",
    "    '4': 'living_room'\n",
    "}\n",
    "\n",
    "number_of_cell_types = len(cell_type_dict)\n",
    "\n",
    "# entrance\n",
    "entrance = {\n",
    "    'name': 'entrance', \n",
    "    'type_index': 0,\n",
    "    'connection_info': \n",
    "    {\n",
    "        'type': 'restricted',\n",
    "        'restriction_map': [0, 0, 0, 0, 1],\n",
    "        'minimal_map': [0, 0, 0, 0, 1]\n",
    "    }\n",
    "}\n",
    "\n",
    "# bed room\n",
    "bed_room = {\n",
    "    'name': 'bed_room', \n",
    "    'type_index': 1,\n",
    "    'connection_info': \n",
    "    {\n",
    "        'type': 'restricted',\n",
    "        'restriction_map': [0, 0, 1, 0, 1],\n",
    "        'minimal_map': [0, 0, 0, 0, 1]\n",
    "    }\n",
    "} \n",
    "\n",
    "# bath_room\n",
    "bath_room = {\n",
    "    'name': 'bath_room', \n",
    "    'type_index': 2,\n",
    "    'connection_info': \n",
    "    {\n",
    "        'type': 'free_with_restricted',\n",
    "        'restriction_map': [0, 1, 0, 0, 1],\n",
    "        'minimal_map': [0, 0, 0, 0, 0]\n",
    "    }\n",
    "}\n",
    "\n",
    "# kitchen\n",
    "kitchen = {\n",
    "    'name': 'kitchen', \n",
    "    'type_index': 3,\n",
    "    'connection_info': \n",
    "    {\n",
    "        'type': 'restricted',\n",
    "        'restriction_map': [0, 0, 0, 0, 1],\n",
    "        'minimal_map': [0, 0, 0, 0, 1]\n",
    "    }\n",
    "}\n",
    "\n",
    "# living_room\n",
    "living_room = {\n",
    "    'name': 'living_room', \n",
    "    'type_index': 4,\n",
    "    'connection_info': \n",
    "    {\n",
    "        'type': 'restricted',\n",
    "        'restriction_map': [1, 5, 1, 1, 0],\n",
    "        'minimal_map': [1, 5, 0, 1, 0]\n",
    "    }\n",
    "}"
   ]
  },
  {
   "cell_type": "code",
   "execution_count": 4,
   "metadata": {},
   "outputs": [],
   "source": [
    "rules = [entrance, bed_room, bath_room, kitchen, living_room]"
   ]
  },
  {
   "cell_type": "code",
   "execution_count": 5,
   "metadata": {},
   "outputs": [],
   "source": [
    "class CellRule:\n",
    "    def __init__(self, name, celltypes=[]):\n",
    "        self.ruleset = celltypes # list\n",
    "        self.name = name \n",
    "        self.number_of_types = len(celltypes)\n",
    "        self.types_dict = {\n",
    "            element['type_index']: element['name'] for element in celltypes}\n",
    "        self.rule_matrix = [rule['connection_info']['restriction_map'] for rule in celltypes ]\n",
    "        self.minimal_matrix = [rule['connection_info']['minimal_map'] for rule in celltypes ]\n",
    "\n",
    "    def __len__(self):\n",
    "        return self.number_of_types\n",
    "    \n",
    "    def __getitem__(self, v):\n",
    "        return self.types_dict[v]\n",
    "    \n",
    "    # cell_type 을 추가한다.\n",
    "    def add_rule(self):\n",
    "        name = input('name 입력하세요.')\n",
    "        type_index = self.number_of_types\n",
    "        connection_type = input('type 입력하세요.')\n",
    "        connection_map = input('restriction_map 입력하세요. ex) 0 1 0 0 1').split()\n",
    "        \n",
    "        cell_type = {\n",
    "            'name': name,\n",
    "            'type_index': type_index,\n",
    "            'conneciton_info': {\n",
    "                'type': connection_type,\n",
    "                'restriction_map': connection_map\n",
    "            }\n",
    "        }\n",
    "        self.ruleset.append(cell_type)\n",
    "        self.number_of_types += 1\n",
    "        self.types_dict[type_index] = name\n",
    "        self.rule_matrix.append(cell_type.connection_info.restriction_map)        \n",
    "        "
   ]
  },
  {
   "cell_type": "code",
   "execution_count": 6,
   "metadata": {},
   "outputs": [],
   "source": [
    "cellrule = CellRule('normrule', celltypes = rules)"
   ]
  },
  {
   "cell_type": "code",
   "execution_count": 7,
   "metadata": {},
   "outputs": [
    {
     "data": {
      "text/plain": [
       "[[0, 0, 0, 0, 1],\n",
       " [0, 0, 1, 0, 1],\n",
       " [0, 1, 0, 0, 1],\n",
       " [0, 0, 0, 0, 1],\n",
       " [1, 5, 1, 1, 0]]"
      ]
     },
     "execution_count": 7,
     "metadata": {},
     "output_type": "execute_result"
    }
   ],
   "source": [
    "cellrule.rule_matrix"
   ]
  },
  {
   "cell_type": "code",
   "execution_count": 8,
   "metadata": {},
   "outputs": [
    {
     "data": {
      "text/plain": [
       "[[0, 0, 0, 0, 1],\n",
       " [0, 0, 0, 0, 1],\n",
       " [0, 0, 0, 0, 0],\n",
       " [0, 0, 0, 0, 1],\n",
       " [1, 5, 0, 1, 0]]"
      ]
     },
     "execution_count": 8,
     "metadata": {},
     "output_type": "execute_result"
    }
   ],
   "source": [
    "cellrule.minimal_matrix"
   ]
  },
  {
   "cell_type": "code",
   "execution_count": 9,
   "metadata": {},
   "outputs": [
    {
     "data": {
      "text/plain": [
       "5"
      ]
     },
     "execution_count": 9,
     "metadata": {},
     "output_type": "execute_result"
    }
   ],
   "source": [
    "cellrule.number_of_types"
   ]
  },
  {
   "cell_type": "code",
   "execution_count": 10,
   "metadata": {},
   "outputs": [
    {
     "data": {
      "text/plain": [
       "{0: 'entrance', 1: 'bed_room', 2: 'bath_room', 3: 'kitchen', 4: 'living_room'}"
      ]
     },
     "execution_count": 10,
     "metadata": {},
     "output_type": "execute_result"
    }
   ],
   "source": [
    "cellrule.types_dict"
   ]
  },
  {
   "cell_type": "code",
   "execution_count": 11,
   "metadata": {},
   "outputs": [],
   "source": [
    "import random\n",
    "import networkx as nx"
   ]
  },
  {
   "cell_type": "code",
   "execution_count": 12,
   "metadata": {},
   "outputs": [],
   "source": [
    "import copy"
   ]
  },
  {
   "cell_type": "code",
   "execution_count": 15,
   "metadata": {},
   "outputs": [],
   "source": [
    "class PlanGraph:\n",
    "    def __init__(self, cellrule):\n",
    "\n",
    "        self.graph = nx.Graph()\n",
    "        self.cellrule = cellrule\n",
    "        \n",
    "        if not self.cellrule:\n",
    "            assert self.cellrule    \n",
    "        \n",
    "        self.number_of_types = cellrule.number_of_types\n",
    "        self.types_dict = cellrule.types_dict\n",
    "        self.max_matrix = cellrule.rule_matrix\n",
    "        self.rule_matrix = [ [0] * self.number_of_types for _ in range(self.number_of_types) ]\n",
    "        self.minimal_matrix = cellrule.minimal_matrix.copy()\n",
    "        \n",
    "        for index in self.types_dict:\n",
    "            for coindex in self.types_dict:\n",
    "                if self.max_matrix[index][coindex] == 0:\n",
    "                    self.rule_matrix[index][coindex] = 0\n",
    "                elif self.max_matrix[index][coindex] == 1:\n",
    "                    self.rule_matrix[index][coindex] = 1\n",
    "                elif self.max_matrix[index][coindex] > 1:\n",
    "                    self.rule_matrix[index][coindex] = np.random.randint(self.max_matrix[index][coindex]) + 1\n",
    "\n",
    "        for index in self.types_dict:\n",
    "            for coindex in self.types_dict:\n",
    "                if self.minimal_matrix[index][coindex] == 0:\n",
    "                    continue\n",
    "                elif self.minimal_matrix[index][coindex] >= self.rule_matrix[index][coindex]:\n",
    "                    self.minimal_matrix[index][coindex] = self.rule_matrix[index][coindex]\n",
    "\n",
    "        self.number_per_types = [0] * self.number_of_types\n",
    "        self.max_number_per_types = [0] * self.number_of_types\n",
    "        self.cells_by_type = []\n",
    "        self.indexed_cells = {}\n",
    "        self.setNodesByRule()\n",
    "        \n",
    "    def getRuleMatrix(self):\n",
    "        return self.rule_matrix\n",
    "    \n",
    "    def getMinimalMatrix(self):\n",
    "        return self.minimal_matrix\n",
    "    \n",
    "    def getCellTypesByCell(self):\n",
    "        return self.cells_by_type\n",
    "    \n",
    "    def setRuleMatrix(self):\n",
    "        for index in self.types_dict:\n",
    "            for coindex in self.types_dict:\n",
    "                if self.max_matrix[index][coindex] == 0:\n",
    "                    self.rule_matrix[index][coindex] = 0\n",
    "                elif self.max_matrix[index][coindex] == 1:\n",
    "                    self.rule_matrix[index][coindex] = 1\n",
    "                elif self.max_matrix[index][coindex] > 1:\n",
    "                    self.rule_matrix[index][coindex] = np.random.randint(self.max_matrix[index][coindex]) + 1        \n",
    "\n",
    "        self.setNodesByRule()\n",
    "    \n",
    "    def setPlanGraph(self):\n",
    "        pass\n",
    "    \n",
    "    def setNodesByRule(self):\n",
    "        self.cells_by_type.clear()\n",
    "        for index in self.types_dict:\n",
    "            for node_index in self.types_dict:\n",
    "                if self.number_per_types[node_index] < self.rule_matrix[index][node_index]:\n",
    "                    self.number_per_types[node_index] = self.rule_matrix[index][node_index]\n",
    "                if self.max_number_per_types[node_index] < self.max_matrix[index][node_index]:\n",
    "                    self.max_number_per_types[node_index] = self.max_matrix[index][node_index]\n",
    "        for type_index, max_index in enumerate(self.number_per_types):\n",
    "            for in_index in range(max_index):\n",
    "                self.graph.add_node(self.types_dict[type_index]+\"_\"+str(in_index), \n",
    "                                    type_index=type_index,\n",
    "                                    in_index=in_index,\n",
    "                                    max_connection=self.max_number_per_types[type_index], \n",
    "                                    current_connection=self.number_per_types[type_index])\n",
    "                self.cells_by_type.append(type_index)\n",
    "        self.nodes_name = list(self.getNodes())\n",
    "        self.setCellsIndexed()\n",
    "        \n",
    "    def setCellsIndexed(self):\n",
    "        dic = {}\n",
    "        for key, value in dict(self.getNodes()).items():\n",
    "            new_key = value['type_index']\n",
    "            if new_key in dic.keys():\n",
    "                dic[new_key].append(key)\n",
    "            else:\n",
    "                dic[new_key] = []\n",
    "                dic[new_key].append(key)\n",
    "        self.indexed_cells = dic\n",
    "    \n",
    "    def setEdgesByRule(self):\n",
    "        self.graph.remove_edges_from(list(self.graph.edges))\n",
    "        rule_matrix = self.getRuleMatrix()\n",
    "        minimal_matrix = self.getMinimalMatrix()\n",
    "        \n",
    "        cell_stack_dict = copy.deepcopy(self.indexed_cells)\n",
    "        stack_matrix = [ [0] * self.number_of_types for _ in range(self.number_of_types) ]\n",
    "        stack_indexed_cell = copy.deepcopy(self.indexed_cells)\n",
    "        \n",
    "        for from_type_index, max_cell_number in enumerate(self.number_per_types): \n",
    "            for cell_index in range(max_cell_number):\n",
    "                for to_type_index in range(self.number_of_types):\n",
    "                    stack_matrix[from_type_index][to_type_index] += minimal_matrix[from_type_index][to_type_index]\n",
    "        \n",
    "        for index in self.types_dict:\n",
    "            for node_index in self.types_dict:\n",
    "                if stack_matrix[index][node_index] > stack_matrix[node_index][index]:\n",
    "                    stack_matrix[node_index][index] = stack_matrix[index][node_index]\n",
    "\n",
    "        for from_type_index, max_cell_number in enumerate(self.number_per_types): \n",
    "            for cell_index in range(max_cell_number):\n",
    "                for to_type_index in range(self.number_of_types):\n",
    "                    connection_number = stack_matrix[from_type_index][to_type_index]\n",
    "                    \n",
    "                    if connection_number == 0:\n",
    "                        continue\n",
    "                    else:\n",
    "                        if not len(stack_indexed_cell[from_type_index]) == 1 and not len(stack_indexed_cell[to_type_index]) == 1:\n",
    "                            self.graph.add_edge(stack_indexed_cell[from_type_index].pop(0),\n",
    "                                           stack_indexed_cell[to_type_index].pop(-1))\n",
    "                        elif not len(stack_indexed_cell[from_type_index]) == 1:\n",
    "                            self.graph.add_edge(stack_indexed_cell[from_type_index].pop(0),\n",
    "                                           stack_indexed_cell[to_type_index][-1])\n",
    "                        elif not len(stack_indexed_cell[to_type_index]) == 1:\n",
    "                            self.graph.add_edge(stack_indexed_cell[from_type_index][-1],\n",
    "                                           stack_indexed_cell[to_type_index].pop(-1))\n",
    "                        else:\n",
    "                            self.graph.add_edge(stack_indexed_cell[from_type_index][-1],\n",
    "                                           stack_indexed_cell[to_type_index][-1])\n",
    "                        stack_matrix[to_type_index][from_type_index] =- 1\n",
    "                        stack_matrix[from_type_index][to_type_index] =- 1\n",
    "        \n",
    "        for index in self.types_dict:\n",
    "            for node_index in self.types_dict:\n",
    "                if not stack_matrix[index][node_index] == 0:\n",
    "                    assert stack_matrix\n",
    "        \n",
    "        for test_index, rule in enumerate(self.getMinimalMatrix()):\n",
    "            non_free = filter(lambda cell_index: 0 != cell_index, rule)\n",
    "            if not list(non_free):\n",
    "                from_index = test_index\n",
    "                rule_matrix = self.getRuleMatrix()\n",
    "                stack = []\n",
    "                \n",
    "                for target_index, rule in enumerate(rule_matrix):\n",
    "                    if not rule[from_index] == 0:\n",
    "                        stack.append(target_index)\n",
    "                \n",
    "                stack_size = len(stack)\n",
    "                target_index = np.random.randint(stack_size)\n",
    "                \n",
    "                self.graph.add_edge(cell_stack_dict[from_index][0],\n",
    "                                   cell_stack_dict[stack[target_index]][0])   \n",
    "    \n",
    "    def getGraph(self):\n",
    "        return self.graph\n",
    "    \n",
    "    def drawGraph(self, with_labels=False):\n",
    "        nx.draw(self.graph, with_labels=with_labels)\n",
    "        \n",
    "    def getNodes(self):\n",
    "        return self.graph.nodes\n",
    "        \n",
    "        "
   ]
  },
  {
   "cell_type": "code",
   "execution_count": 16,
   "metadata": {},
   "outputs": [],
   "source": [
    "pg = PlanGraph(cellrule)"
   ]
  },
  {
   "cell_type": "code",
   "execution_count": 17,
   "metadata": {},
   "outputs": [
    {
     "data": {
      "text/plain": [
       "[[0, 0, 0, 0, 1],\n",
       " [0, 0, 1, 0, 1],\n",
       " [0, 1, 0, 0, 1],\n",
       " [0, 0, 0, 0, 1],\n",
       " [1, 4, 1, 1, 0]]"
      ]
     },
     "execution_count": 17,
     "metadata": {},
     "output_type": "execute_result"
    }
   ],
   "source": [
    "pg.getRuleMatrix()"
   ]
  },
  {
   "cell_type": "code",
   "execution_count": 18,
   "metadata": {},
   "outputs": [
    {
     "data": {
      "text/plain": [
       "[[0, 0, 0, 0, 1],\n",
       " [0, 0, 1, 0, 1],\n",
       " [0, 1, 0, 0, 1],\n",
       " [0, 0, 0, 0, 1],\n",
       " [1, 5, 1, 1, 0]]"
      ]
     },
     "execution_count": 18,
     "metadata": {},
     "output_type": "execute_result"
    }
   ],
   "source": [
    "pg.max_matrix"
   ]
  },
  {
   "cell_type": "code",
   "execution_count": 19,
   "metadata": {},
   "outputs": [
    {
     "data": {
      "text/plain": [
       "[[0, 0, 0, 0, 1],\n",
       " [0, 0, 0, 0, 1],\n",
       " [0, 0, 0, 0, 0],\n",
       " [0, 0, 0, 0, 1],\n",
       " [1, 4, 0, 1, 0]]"
      ]
     },
     "execution_count": 19,
     "metadata": {},
     "output_type": "execute_result"
    }
   ],
   "source": [
    "pg.minimal_matrix"
   ]
  },
  {
   "cell_type": "code",
   "execution_count": 20,
   "metadata": {},
   "outputs": [
    {
     "data": {
      "text/plain": [
       "[1, 4, 1, 1, 1]"
      ]
     },
     "execution_count": 20,
     "metadata": {},
     "output_type": "execute_result"
    }
   ],
   "source": [
    "pg.number_per_types"
   ]
  },
  {
   "cell_type": "code",
   "execution_count": 21,
   "metadata": {},
   "outputs": [],
   "source": [
    "pg.setNodesByRule()"
   ]
  },
  {
   "cell_type": "code",
   "execution_count": 22,
   "metadata": {},
   "outputs": [
    {
     "data": {
      "text/plain": [
       "[1, 5, 1, 1, 1]"
      ]
     },
     "execution_count": 22,
     "metadata": {},
     "output_type": "execute_result"
    }
   ],
   "source": [
    "pg.max_number_per_types"
   ]
  },
  {
   "cell_type": "code",
   "execution_count": 23,
   "metadata": {},
   "outputs": [
    {
     "data": {
      "text/plain": [
       "[0, 1, 1, 1, 1, 2, 3, 4]"
      ]
     },
     "execution_count": 23,
     "metadata": {},
     "output_type": "execute_result"
    }
   ],
   "source": [
    "pg.cells_by_type"
   ]
  },
  {
   "cell_type": "code",
   "execution_count": 24,
   "metadata": {},
   "outputs": [
    {
     "data": {
      "text/plain": [
       "{0: ['entrance_0'],\n",
       " 1: ['bed_room_0', 'bed_room_1', 'bed_room_2', 'bed_room_3'],\n",
       " 2: ['bath_room_0'],\n",
       " 3: ['kitchen_0'],\n",
       " 4: ['living_room_0']}"
      ]
     },
     "execution_count": 24,
     "metadata": {},
     "output_type": "execute_result"
    }
   ],
   "source": [
    "pg.indexed_cells"
   ]
  },
  {
   "cell_type": "code",
   "execution_count": 25,
   "metadata": {},
   "outputs": [
    {
     "data": {
      "text/plain": [
       "{0: 'entrance', 1: 'bed_room', 2: 'bath_room', 3: 'kitchen', 4: 'living_room'}"
      ]
     },
     "execution_count": 25,
     "metadata": {},
     "output_type": "execute_result"
    }
   ],
   "source": [
    "pg.types_dict"
   ]
  },
  {
   "cell_type": "code",
   "execution_count": 26,
   "metadata": {},
   "outputs": [],
   "source": [
    "pg.drawGraph(with_labels=True)"
   ]
  },
  {
   "cell_type": "code",
   "execution_count": 27,
   "metadata": {
    "scrolled": false
   },
   "outputs": [],
   "source": [
    "pg.setEdgesByRule()"
   ]
  },
  {
   "cell_type": "code",
   "execution_count": 28,
   "metadata": {
    "scrolled": false
   },
   "outputs": [
    {
     "data": {
      "image/png": "[encoded data removed]",
      "text/plain": [
       "<Figure size 432x288 with 1 Axes>"
      ]
     },
     "metadata": {},
     "output_type": "display_data"
    }
   ],
   "source": [
    "pg.drawGraph(with_labels=True)"
   ]
  },
  {
   "cell_type": "code",
   "execution_count": null,
   "metadata": {},
   "outputs": [],
   "source": []
  }
 ],
 "metadata": {
  "kernelspec": {
   "display_name": "Python 3",
   "language": "python",
   "name": "python3"
  },
  "language_info": {
   "codemirror_mode": {
    "name": "ipython",
    "version": 3
   },
   "file_extension": ".py",
   "mimetype": "text/x-python",
   "name": "python",
   "nbconvert_exporter": "python",
   "pygments_lexer": "ipython3",
   "version": "3.7.1"
  }
 },
 "nbformat": 4,
 "nbformat_minor": 2
}
