{
 "cells": [
  {
   "cell_type": "markdown",
   "metadata": {},
   "source": [
    "# split\n",
    "`torch.split(tensor, split_size_or_sections, dim=0)`\n"
   ]
  },
  {
   "cell_type": "markdown",
   "metadata": {},
   "source": [
    "### split_size 로 나누기"
   ]
  },
  {
   "cell_type": "code",
   "execution_count": 1,
   "metadata": {},
   "outputs": [],
   "source": [
    "import torch"
   ]
  },
  {
   "cell_type": "code",
   "execution_count": 3,
   "metadata": {},
   "outputs": [],
   "source": [
    "a = torch.rand((1,2,3,4))"
   ]
  },
  {
   "cell_type": "code",
   "execution_count": 5,
   "metadata": {},
   "outputs": [
    {
     "data": {
      "text/plain": [
       "(tensor([[[[0.1970, 0.0876],\n",
       "           [0.7976, 0.8792],\n",
       "           [0.3144, 0.4294]],\n",
       " \n",
       "          [[0.7317, 0.4964],\n",
       "           [0.9385, 0.3812],\n",
       "           [0.9331, 0.9704]]]]),\n",
       " tensor([[[[0.1450, 0.3535],\n",
       "           [0.6509, 0.4527],\n",
       "           [0.7123, 0.4063]],\n",
       " \n",
       "          [[0.7226, 0.5470],\n",
       "           [0.4312, 0.8324],\n",
       "           [0.0510, 0.9816]]]]))"
      ]
     },
     "execution_count": 5,
     "metadata": {},
     "output_type": "execute_result"
    }
   ],
   "source": [
    "b = torch.split(a, 2, dim=3)\n",
    "b"
   ]
  },
  {
   "cell_type": "code",
   "execution_count": 6,
   "metadata": {},
   "outputs": [
    {
     "name": "stdout",
     "output_type": "stream",
     "text": [
      "2 torch.Size([1, 2, 3, 2]) torch.Size([1, 2, 3, 2])\n"
     ]
    }
   ],
   "source": [
    "print(len(b), b[0].shape, b[1].shape)"
   ]
  },
  {
   "cell_type": "markdown",
   "metadata": {},
   "source": [
    "### sections 로 나누기"
   ]
  },
  {
   "cell_type": "code",
   "execution_count": 8,
   "metadata": {},
   "outputs": [
    {
     "data": {
      "text/plain": [
       "(tensor([[[[0.1970],\n",
       "           [0.7976],\n",
       "           [0.3144]],\n",
       " \n",
       "          [[0.7317],\n",
       "           [0.9385],\n",
       "           [0.9331]]]]),\n",
       " tensor([[[[0.0876, 0.1450, 0.3535],\n",
       "           [0.8792, 0.6509, 0.4527],\n",
       "           [0.4294, 0.7123, 0.4063]],\n",
       " \n",
       "          [[0.4964, 0.7226, 0.5470],\n",
       "           [0.3812, 0.4312, 0.8324],\n",
       "           [0.9704, 0.0510, 0.9816]]]]))"
      ]
     },
     "execution_count": 8,
     "metadata": {},
     "output_type": "execute_result"
    }
   ],
   "source": [
    "b = torch.split(a, [1,3], dim=3)\n",
    "b"
   ]
  },
  {
   "cell_type": "code",
   "execution_count": 9,
   "metadata": {},
   "outputs": [
    {
     "name": "stdout",
     "output_type": "stream",
     "text": [
      "2 torch.Size([1, 2, 3, 1]) torch.Size([1, 2, 3, 3])\n"
     ]
    }
   ],
   "source": [
    "print(len(b), b[0].shape, b[1].shape)"
   ]
  },
  {
   "cell_type": "code",
   "execution_count": null,
   "metadata": {},
   "outputs": [],
   "source": []
  }
 ],
 "metadata": {
  "kernelspec": {
   "display_name": "Python 3",
   "language": "python",
   "name": "python3"
  },
  "language_info": {
   "codemirror_mode": {
    "name": "ipython",
    "version": 3
   },
   "file_extension": ".py",
   "mimetype": "text/x-python",
   "name": "python",
   "nbconvert_exporter": "python",
   "pygments_lexer": "ipython3",
   "version": "3.7.6"
  }
 },
 "nbformat": 4,
 "nbformat_minor": 4
}
