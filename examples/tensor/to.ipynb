{
 "cells": [
  {
   "cell_type": "code",
   "execution_count": 2,
   "metadata": {},
   "outputs": [],
   "source": [
    "import torch"
   ]
  },
  {
   "cell_type": "markdown",
   "metadata": {},
   "source": [
    "#### to\n"
   ]
  },
  {
   "cell_type": "markdown",
   "metadata": {},
   "source": [
    "##### torch.Tensor.to\n",
    "  \n",
    "performs tensor **dtype** and/or **device** conversion.  \n"
   ]
  },
  {
   "cell_type": "markdown",
   "metadata": {},
   "source": [
    "```\n",
    "torch.to(  \n",
    "    dtype,  \n",
    "    non_blocking=False,  \n",
    "    copy=False)\n",
    "   ```\n",
    "  \n",
    "returns a stensor with the specified `dtype`.\n"
   ]
  },
  {
   "cell_type": "markdown",
   "metadata": {},
   "source": [
    "```\n",
    "torch.to(  \n",
    "    device=None,  \n",
    "    dtype=None,    \n",
    "    non_blocking=False,  \n",
    "    copy=False)\n",
    "```\n",
    "  \n",
    "returns a tensor with the specified `device` and (option) `dtype`.\n"
   ]
  },
  {
   "cell_type": "markdown",
   "metadata": {},
   "source": [
    "```\n",
    "torch.to(  \n",
    "    other,  \n",
    "    non_blocking=False  \n",
    "    copy=False)\n",
    "```\n",
    "  \n",
    "returns a tensor with same `torch.dtype` and `torch.device` as the Tensor `other`.\n"
   ]
  },
  {
   "cell_type": "markdown",
   "metadata": {},
   "source": [
    "1. to dtype"
   ]
  },
  {
   "cell_type": "code",
   "execution_count": 14,
   "metadata": {},
   "outputs": [
    {
     "name": "stdout",
     "output_type": "stream",
     "text": [
      "torch.float32\n",
      "torch.float64\n"
     ]
    }
   ],
   "source": [
    "tensor = torch.randn(2,2)\n",
    "print(tensor.dtype)\n",
    "newtensor = tensor.to(dtype=torch.float64)\n",
    "print(newtensor.dtype)"
   ]
  },
  {
   "cell_type": "markdown",
   "metadata": {},
   "source": [
    "2. to device"
   ]
  },
  {
   "cell_type": "code",
   "execution_count": 18,
   "metadata": {
    "scrolled": true
   },
   "outputs": [
    {
     "name": "stdout",
     "output_type": "stream",
     "text": [
      "cpu\n"
     ]
    }
   ],
   "source": [
    "print(tensor.device)\n",
    "# newtensor = tensor.to('cuda:0')\n",
    "# print(newtensor.device)"
   ]
  },
  {
   "cell_type": "markdown",
   "metadata": {},
   "source": [
    "3. to other tensor"
   ]
  },
  {
   "cell_type": "code",
   "execution_count": 20,
   "metadata": {},
   "outputs": [
    {
     "data": {
      "text/plain": [
       "tensor([[1.1589, 0.4099],\n",
       "        [1.7938, 0.3808]], dtype=torch.float64)"
      ]
     },
     "execution_count": 20,
     "metadata": {},
     "output_type": "execute_result"
    }
   ],
   "source": [
    "other = torch.randn((), dtype=torch.float64)\n",
    "tensor.to(other, non_blocking=True)"
   ]
  }
 ],
 "metadata": {
  "kernelspec": {
   "display_name": "Python 3",
   "language": "python",
   "name": "python3"
  },
  "language_info": {
   "codemirror_mode": {
    "name": "ipython",
    "version": 3
   },
   "file_extension": ".py",
   "mimetype": "text/x-python",
   "name": "python",
   "nbconvert_exporter": "python",
   "pygments_lexer": "ipython3",
   "version": "3.7.1"
  }
 },
 "nbformat": 4,
 "nbformat_minor": 2
}
