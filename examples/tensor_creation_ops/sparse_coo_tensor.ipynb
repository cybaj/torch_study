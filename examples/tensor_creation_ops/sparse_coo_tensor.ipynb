{
 "cells": [
  {
   "cell_type": "code",
   "execution_count": 2,
   "metadata": {},
   "outputs": [],
   "source": [
    "import torch"
   ]
  },
  {
   "cell_type": "markdown",
   "metadata": {},
   "source": [
    "#### tensor creation ops\n",
    "https://pytorch.org/docs/1.1.0/torch.html#creation-ops"
   ]
  },
  {
   "cell_type": "markdown",
   "metadata": {},
   "source": [
    "##### torch.sparse_coo_tensor\n",
    "  \n",
    "constructs a sparse tensors in COO(rdinate) format with non-zero elements  \n",
    "at the given indices with the given values.  \n"
   ]
  },
  {
   "cell_type": "markdown",
   "metadata": {},
   "source": [
    "torch.sparse_coo_tensor(  \n",
    "    indices,  \n",
    "    values,  \n",
    "    size=None,  \n",
    "    dtype=None,  \n",
    "    device=None,  \n",
    "    requires_grad=False)\n",
    "  \n",
    "* **indices (array_like)** – Initial data for the tensor. Can be a list, tuple, NumPy ndarray, scalar, and other types. Will be cast to a torch.LongTensor internally. The indices are the coordinates of the non-zero values in the matrix, and thus should be two-dimensional where the first dimension is the number of tensor dimensions and the second dimension is the number of non-zero values.\n",
    "* **values (array_like)** – Initial values for the tensor. Can be a list, tuple, NumPy ndarray, scalar, and other types.\n",
    "  \n",
    "  \n",
    "* size (list, tuple, or torch.Size, optional) – Size of the sparse tensor. If not provided the size will be inferred as the minimum size big enough to hold all non-zero elements.\n",
    "* dtype (torch.dtype, optional) – the desired data type of returned tensor. Default: if None, infers data type from values.\n",
    "* device (torch.device, optional) – the desired device of returned tensor. Default: if None, uses the current device for the default tensor type (see torch.set_default_tensor_type()). device will be the CPU for CPU tensor types and the current CUDA device for CUDA tensor types.\n",
    "* requires_grad (bool, optional) – If autograd should record operations on the returned tensor. Default: False.\n",
    "  "
   ]
  },
  {
   "cell_type": "markdown",
   "metadata": {},
   "source": [
    "#### need to know COO format sparse matrix\n",
    "\n",
    "(column, row, value) formed tuples list can describe a sparse matrix"
   ]
  },
  {
   "cell_type": "code",
   "execution_count": 4,
   "metadata": {
    "scrolled": true
   },
   "outputs": [
    {
     "name": "stdout",
     "output_type": "stream",
     "text": [
      "Help on built-in function sparse_coo_tensor:\n",
      "\n",
      "sparse_coo_tensor(...)\n",
      "    sparse_coo_tensor(indices, values, size=None, dtype=None, device=None, requires_grad=False) -> Tensor\n",
      "    \n",
      "    Constructs a sparse tensors in COO(rdinate) format with non-zero elements at the given :attr:`indices`\n",
      "    with the given :attr:`values`. A sparse tensor can be `uncoalesced`, in that case, there are duplicate\n",
      "    coordinates in the indices, and the value at that index is the sum of all duplicate value entries:\n",
      "    `torch.sparse`_.\n",
      "    \n",
      "    Args:\n",
      "        indices (array_like): Initial data for the tensor. Can be a list, tuple,\n",
      "            NumPy ``ndarray``, scalar, and other types. Will be cast to a :class:`torch.LongTensor`\n",
      "            internally. The indices are the coordinates of the non-zero values in the matrix, and thus\n",
      "            should be two-dimensional where the first dimension is the number of tensor dimensions and\n",
      "            the second dimension is the number of non-zero values.\n",
      "        values (array_like): Initial values for the tensor. Can be a list, tuple,\n",
      "            NumPy ``ndarray``, scalar, and other types.\n",
      "        size (list, tuple, or :class:`torch.Size`, optional): Size of the sparse tensor. If not\n",
      "            provided the size will be inferred as the minimum size big enough to hold all non-zero\n",
      "            elements.\n",
      "        dtype (:class:`torch.dtype`, optional): the desired data type of returned tensor.\n",
      "            Default: if None, infers data type from :attr:`values`.\n",
      "        device (:class:`torch.device`, optional): the desired device of returned tensor.\n",
      "            Default: if None, uses the current device for the default tensor type\n",
      "            (see :func:`torch.set_default_tensor_type`). :attr:`device` will be the CPU\n",
      "            for CPU tensor types and the current CUDA device for CUDA tensor types.\n",
      "        requires_grad (bool, optional): If autograd should record operations on the\n",
      "            returned tensor. Default: ``False``.\n",
      "    \n",
      "    \n",
      "    Example::\n",
      "    \n",
      "        >>> i = torch.tensor([[0, 1, 1],\n",
      "                              [2, 0, 2]])\n",
      "        >>> v = torch.tensor([3, 4, 5], dtype=torch.float32)\n",
      "        >>> torch.sparse_coo_tensor(i, v, [2, 4])\n",
      "        tensor(indices=tensor([[0, 1, 1],\n",
      "                               [2, 0, 2]]),\n",
      "               values=tensor([3., 4., 5.]),\n",
      "               size=(2, 4), nnz=3, layout=torch.sparse_coo)\n",
      "    \n",
      "        >>> torch.sparse_coo_tensor(i, v)  # Shape inference\n",
      "        tensor(indices=tensor([[0, 1, 1],\n",
      "                               [2, 0, 2]]),\n",
      "               values=tensor([3., 4., 5.]),\n",
      "               size=(2, 3), nnz=3, layout=torch.sparse_coo)\n",
      "    \n",
      "        >>> torch.sparse_coo_tensor(i, v, [2, 4],\n",
      "                                    dtype=torch.float64,\n",
      "                                    device=torch.device('cuda:0'))\n",
      "        tensor(indices=tensor([[0, 1, 1],\n",
      "                               [2, 0, 2]]),\n",
      "               values=tensor([3., 4., 5.]),\n",
      "               device='cuda:0', size=(2, 4), nnz=3, dtype=torch.float64,\n",
      "               layout=torch.sparse_coo)\n",
      "    \n",
      "        # Create an empty sparse tensor with the following invariants:\n",
      "        #   1. sparse_dim + dense_dim = len(SparseTensor.shape)\n",
      "        #   2. SparseTensor._indices().shape = (sparse_dim, nnz)\n",
      "        #   3. SparseTensor._values().shape = (nnz, SparseTensor.shape[sparse_dim:])\n",
      "        #\n",
      "        # For instance, to create an empty sparse tensor with nnz = 0, dense_dim = 0 and\n",
      "        # sparse_dim = 1 (hence indices is a 2D tensor of shape = (1, 0))\n",
      "        >>> S = torch.sparse_coo_tensor(torch.empty([1, 0]), [], [1])\n",
      "        tensor(indices=tensor([], size=(1, 0)),\n",
      "               values=tensor([], size=(0,)),\n",
      "               size=(1,), nnz=0, layout=torch.sparse_coo)\n",
      "    \n",
      "        # and to create an empty sparse tensor with nnz = 0, dense_dim = 1 and\n",
      "        # sparse_dim = 1\n",
      "        >>> S = torch.sparse_coo_tensor(torch.empty([1, 0]), torch.empty([0, 2]), [1, 2])\n",
      "        tensor(indices=tensor([], size=(1, 0)),\n",
      "               values=tensor([], size=(0, 2)),\n",
      "               size=(1, 2), nnz=0, layout=torch.sparse_coo)\n",
      "    \n",
      "    .. _torch.sparse: https://pytorch.org/docs/stable/sparse.html\n",
      "\n"
     ]
    }
   ],
   "source": [
    "help(torch.sparse_coo_tensor)"
   ]
  },
  {
   "cell_type": "markdown",
   "metadata": {},
   "source": [
    "1. "
   ]
  },
  {
   "cell_type": "code",
   "execution_count": 24,
   "metadata": {},
   "outputs": [
    {
     "data": {
      "text/plain": [
       "tensor([[0, 1, 1],\n",
       "        [2, 0, 2]])"
      ]
     },
     "execution_count": 24,
     "metadata": {},
     "output_type": "execute_result"
    }
   ],
   "source": [
    "i = torch.tensor([[0,1,1],\n",
    "                  [2,0,2]])\n",
    "i # select sparse matrix's elements by indices from value array"
   ]
  },
  {
   "cell_type": "code",
   "execution_count": 19,
   "metadata": {
    "scrolled": true
   },
   "outputs": [
    {
     "data": {
      "text/plain": [
       "tensor([3., 4., 5.])"
      ]
     },
     "execution_count": 19,
     "metadata": {},
     "output_type": "execute_result"
    }
   ],
   "source": [
    "v = torch.tensor([3,4,5], dtype=torch.float32)\n",
    "v"
   ]
  },
  {
   "cell_type": "code",
   "execution_count": 20,
   "metadata": {},
   "outputs": [
    {
     "data": {
      "text/plain": [
       "tensor(indices=tensor([[0, 1, 1],\n",
       "                       [2, 0, 2]]),\n",
       "       values=tensor([3., 4., 5.]),\n",
       "       size=(2, 3), nnz=3, layout=torch.sparse_coo)"
      ]
     },
     "execution_count": 20,
     "metadata": {},
     "output_type": "execute_result"
    }
   ],
   "source": [
    "torch.sparse_coo_tensor(i,v,[2,3])"
   ]
  },
  {
   "cell_type": "code",
   "execution_count": 21,
   "metadata": {},
   "outputs": [
    {
     "data": {
      "text/plain": [
       "torch.Size([2, 3])"
      ]
     },
     "execution_count": 21,
     "metadata": {},
     "output_type": "execute_result"
    }
   ],
   "source": [
    "torch.sparse_coo_tensor(i,v,[2,3]).shape"
   ]
  },
  {
   "cell_type": "code",
   "execution_count": 14,
   "metadata": {},
   "outputs": [
    {
     "ename": "RuntimeError",
     "evalue": "sparse tensors do not have strides",
     "output_type": "error",
     "traceback": [
      "\u001b[0;31m\u001b[0m",
      "\u001b[0;31mRuntimeError\u001b[0mTraceback (most recent call last)",
      "\u001b[0;32m<ipython-input-14-bf4ae268d0d1>\u001b[0m in \u001b[0;36m<module>\u001b[0;34m()\u001b[0m\n\u001b[0;32m----> 1\u001b[0;31m \u001b[0mtorch\u001b[0m\u001b[0;34m.\u001b[0m\u001b[0msparse_coo_tensor\u001b[0m\u001b[0;34m(\u001b[0m\u001b[0mi\u001b[0m\u001b[0;34m,\u001b[0m\u001b[0mv\u001b[0m\u001b[0;34m,\u001b[0m\u001b[0;34m[\u001b[0m\u001b[0;36m2\u001b[0m\u001b[0;34m,\u001b[0m\u001b[0;36m3\u001b[0m\u001b[0;34m]\u001b[0m\u001b[0;34m)\u001b[0m\u001b[0;34m[\u001b[0m\u001b[0;36m0\u001b[0m\u001b[0;34m]\u001b[0m\u001b[0;34m\u001b[0m\u001b[0;34m\u001b[0m\u001b[0m\n\u001b[0m",
      "\u001b[0;31mRuntimeError\u001b[0m: sparse tensors do not have strides"
     ]
    }
   ],
   "source": [
    "torch.sparse_coo_tensor(i,v,[2,3])[0]"
   ]
  },
  {
   "cell_type": "code",
   "execution_count": null,
   "metadata": {},
   "outputs": [],
   "source": []
  }
 ],
 "metadata": {
  "kernelspec": {
   "display_name": "Python 3",
   "language": "python",
   "name": "python3"
  },
  "language_info": {
   "codemirror_mode": {
    "name": "ipython",
    "version": 3
   },
   "file_extension": ".py",
   "mimetype": "text/x-python",
   "name": "python",
   "nbconvert_exporter": "python",
   "pygments_lexer": "ipython3",
   "version": "3.7.1"
  }
 },
 "nbformat": 4,
 "nbformat_minor": 2
}
