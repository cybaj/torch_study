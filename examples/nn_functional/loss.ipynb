{
 "cells": [
  {
   "cell_type": "markdown",
   "metadata": {},
   "source": [
    "# loss\n",
    "- binary_cross_entropy\n",
    "- binary_cross_entropy_with_logits\n",
    "- poisson_nll_loss\n",
    "- cosine_embedding_loss\n",
    "- cross_entropy\n",
    "- ctc_loss\n",
    "- hinge_embedding_loss\n",
    "- kl_div\n",
    "- l1_loss\n",
    "- mse_loss\n",
    "- margin_ranking_loss\n",
    "- multilabel_margin_loss\n",
    "- multilabel_soft_margin_loss\n",
    "- multi_margin_loss\n",
    "- nll_loss\n",
    "- smooth_l1_loss\n",
    "- soft_margin_loss\n",
    "- triplet_margin_loss"
   ]
  },
  {
   "cell_type": "code",
   "execution_count": null,
   "metadata": {},
   "outputs": [],
   "source": []
  }
 ],
 "metadata": {
  "kernelspec": {
   "display_name": "Python 3",
   "language": "python",
   "name": "python3"
  },
  "language_info": {
   "codemirror_mode": {
    "name": "ipython",
    "version": 3
   },
   "file_extension": ".py",
   "mimetype": "text/x-python",
   "name": "python",
   "nbconvert_exporter": "python",
   "pygments_lexer": "ipython3",
   "version": "3.7.6"
  }
 },
 "nbformat": 4,
 "nbformat_minor": 4
}
