{
 "cells": [
  {
   "cell_type": "markdown",
   "metadata": {},
   "source": [
    "# vision functions\n",
    "[ref](https://pytorch.org/docs/stable/nn.functional.html#vision-functions)"
   ]
  },
  {
   "cell_type": "markdown",
   "metadata": {},
   "source": [
    "## interpolate\n",
    "- 대상 텐서: 3d, 4d, 5d tensor\n",
    "    - mini-batch x channels x [optional depth] x [optional height] x width\n",
    "- 대상 텐서를 upsample / downsample 해준다.\n",
    "\n",
    "### signature\n",
    "```\n",
    "torch.nn.functional.interpolate(input, size=None, scale_factor=None, mode='nearest', align_corners=None, recompute_scale_factor=None)\n",
    "```\n",
    "### arguments\n",
    "- 바꿀 Tensor\n",
    "    - input (Tensor) – the input tensor\n",
    "- 어떻게 바꿀 것인지, `size=(128,128)` 를 명시하거나, `scale_factor=0.5` 을 정해주거나\n",
    "    - size (int or Tuple[int] or Tuple[int, int] or Tuple[int, int, int]) – output spatial size.\n",
    "    - scale_factor (float or Tuple[float]) – multiplier for spatial size. Has to match input size if it is a tuple.\n",
    "- upsampling 시 어떤 알고리즘을 사용할 것인지\n",
    "    - mode (str) – algorithm used for upsampling: 'nearest' | 'linear' | 'bilinear' | 'bicubic' | 'trilinear' | 'area'. Default: 'nearest'\n",
    "- 나머지\n",
    "    - align_corners (bool, optional) – Geometrically, we consider the pixels of the input and output as squares rather than points. If set to True, the input and output tensors are aligned by the center points of their corner pixels, preserving the values at the corner pixels. If set to False, the input and output tensors are aligned by the corner points of their corner pixels, and the interpolation uses edge value padding for out-of-boundary values, making this operation independent of input size when scale_factor is kept the same. This only has an effect when mode is 'linear', 'bilinear', 'bicubic' or 'trilinear'. Default: False\n",
    "    - recompute_scale_factor (bool, optional) – recompute the scale_factor for use in the interpolation calculation. When scale_factor is passed as a parameter, it is used to compute the output_size. If recompute_scale_factor is `True` or not specified, a new scale_factor will be computed based on the output and input sizes for use in the interpolation computation (i.e. the computation will be identical to if the computed output_size were passed-in explicitly). Otherwise, the passed-in scale_factor will be used in the interpolation computation. Note that when scale_factor is floating-point, the recomputed scale_factor may differ from the one passed in due to rounding and precision issues.\n",
    "\n"
   ]
  },
  {
   "cell_type": "code",
   "execution_count": null,
   "metadata": {},
   "outputs": [],
   "source": []
  }
 ],
 "metadata": {
  "kernelspec": {
   "display_name": "Python 3",
   "language": "python",
   "name": "python3"
  },
  "language_info": {
   "codemirror_mode": {
    "name": "ipython",
    "version": 3
   },
   "file_extension": ".py",
   "mimetype": "text/x-python",
   "name": "python",
   "nbconvert_exporter": "python",
   "pygments_lexer": "ipython3",
   "version": "3.7.6"
  }
 },
 "nbformat": 4,
 "nbformat_minor": 4
}
