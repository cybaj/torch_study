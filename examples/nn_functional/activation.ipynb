{
 "cells": [
  {
   "cell_type": "code",
   "execution_count": 2,
   "metadata": {},
   "outputs": [],
   "source": [
    "import torch\n",
    "import numpy as np"
   ]
  },
  {
   "cell_type": "code",
   "execution_count": 7,
   "metadata": {},
   "outputs": [],
   "source": [
    "import torch.nn.functional as F"
   ]
  },
  {
   "cell_type": "markdown",
   "metadata": {},
   "source": [
    "# activation functions"
   ]
  },
  {
   "cell_type": "markdown",
   "metadata": {},
   "source": [
    "## log_softmax"
   ]
  },
  {
   "cell_type": "code",
   "execution_count": 3,
   "metadata": {},
   "outputs": [],
   "source": [
    "A = np.eye(2) * 2\n",
    "B = np.eye(3) * 3\n",
    "block = np.block([\n",
    "    [A,               np.zeros((2, 3))],\n",
    "    [np.ones((3, 2)), B               ]\n",
    "])"
   ]
  },
  {
   "cell_type": "code",
   "execution_count": 4,
   "metadata": {},
   "outputs": [
    {
     "data": {
      "text/plain": [
       "array([[2., 0., 0., 0., 0.],\n",
       "       [0., 2., 0., 0., 0.],\n",
       "       [1., 1., 3., 0., 0.],\n",
       "       [1., 1., 0., 3., 0.],\n",
       "       [1., 1., 0., 0., 3.]])"
      ]
     },
     "execution_count": 4,
     "metadata": {},
     "output_type": "execute_result"
    }
   ],
   "source": [
    "block"
   ]
  },
  {
   "cell_type": "code",
   "execution_count": 5,
   "metadata": {},
   "outputs": [
    {
     "data": {
      "text/plain": [
       "(5, 5)"
      ]
     },
     "execution_count": 5,
     "metadata": {},
     "output_type": "execute_result"
    }
   ],
   "source": [
    "block.shape"
   ]
  },
  {
   "cell_type": "code",
   "execution_count": 6,
   "metadata": {},
   "outputs": [],
   "source": [
    "block_tensor = torch.tensor(block)"
   ]
  },
  {
   "cell_type": "code",
   "execution_count": 8,
   "metadata": {},
   "outputs": [
    {
     "name": "stderr",
     "output_type": "stream",
     "text": [
      "/opt/conda/lib/python3.7/site-packages/ipykernel_launcher.py:1: UserWarning: Implicit dimension choice for log_softmax has been deprecated. Change the call to include dim=X as an argument.\n",
      "  \"\"\"Entry point for launching an IPython kernel.\n"
     ]
    },
    {
     "data": {
      "text/plain": [
       "tensor([[-0.4327, -2.4327, -2.4327, -2.4327, -2.4327],\n",
       "        [-2.4327, -0.4327, -2.4327, -2.4327, -2.4327],\n",
       "        [-2.3150, -2.3150, -0.3150, -3.3150, -3.3150],\n",
       "        [-2.3150, -2.3150, -3.3150, -0.3150, -3.3150],\n",
       "        [-2.3150, -2.3150, -3.3150, -3.3150, -0.3150]], dtype=torch.float64)"
      ]
     },
     "execution_count": 8,
     "metadata": {},
     "output_type": "execute_result"
    }
   ],
   "source": [
    "F.log_softmax(block_tensor)"
   ]
  },
  {
   "cell_type": "code",
   "execution_count": 9,
   "metadata": {},
   "outputs": [
    {
     "data": {
      "text/plain": [
       "tensor([[-0.8060, -2.8060, -3.1816, -3.1816, -3.1816],\n",
       "        [-2.8060, -0.8060, -3.1816, -3.1816, -3.1816],\n",
       "        [-1.8060, -1.8060, -0.1816, -3.1816, -3.1816],\n",
       "        [-1.8060, -1.8060, -3.1816, -0.1816, -3.1816],\n",
       "        [-1.8060, -1.8060, -3.1816, -3.1816, -0.1816]], dtype=torch.float64)"
      ]
     },
     "execution_count": 9,
     "metadata": {},
     "output_type": "execute_result"
    }
   ],
   "source": [
    "F.log_softmax(block_tensor, dim=0)"
   ]
  },
  {
   "cell_type": "code",
   "execution_count": 10,
   "metadata": {},
   "outputs": [
    {
     "data": {
      "text/plain": [
       "tensor([[-0.4327, -2.4327, -2.4327, -2.4327, -2.4327],\n",
       "        [-2.4327, -0.4327, -2.4327, -2.4327, -2.4327],\n",
       "        [-2.3150, -2.3150, -0.3150, -3.3150, -3.3150],\n",
       "        [-2.3150, -2.3150, -3.3150, -0.3150, -3.3150],\n",
       "        [-2.3150, -2.3150, -3.3150, -3.3150, -0.3150]], dtype=torch.float64)"
      ]
     },
     "execution_count": 10,
     "metadata": {},
     "output_type": "execute_result"
    }
   ],
   "source": [
    "F.log_softmax(block_tensor, dim=1)"
   ]
  },
  {
   "cell_type": "code",
   "execution_count": 18,
   "metadata": {},
   "outputs": [],
   "source": [
    "a = np.ones((1,2,2))\n",
    "b = np.zeros((1,2,2))\n",
    "block = np.concatenate((a, b), axis=0)"
   ]
  },
  {
   "cell_type": "code",
   "execution_count": 20,
   "metadata": {},
   "outputs": [
    {
     "data": {
      "text/plain": [
       "array([[[1., 1.],\n",
       "        [1., 1.]],\n",
       "\n",
       "       [[0., 0.],\n",
       "        [0., 0.]]])"
      ]
     },
     "execution_count": 20,
     "metadata": {},
     "output_type": "execute_result"
    }
   ],
   "source": [
    "block"
   ]
  },
  {
   "cell_type": "code",
   "execution_count": 19,
   "metadata": {},
   "outputs": [
    {
     "data": {
      "text/plain": [
       "(2, 2, 2)"
      ]
     },
     "execution_count": 19,
     "metadata": {},
     "output_type": "execute_result"
    }
   ],
   "source": [
    "block.shape"
   ]
  },
  {
   "cell_type": "code",
   "execution_count": 21,
   "metadata": {},
   "outputs": [],
   "source": [
    "block_tensor = torch.tensor(block)"
   ]
  },
  {
   "cell_type": "code",
   "execution_count": 23,
   "metadata": {},
   "outputs": [
    {
     "data": {
      "text/plain": [
       "tensor([[[-0.3133, -0.3133],\n",
       "         [-0.3133, -0.3133]],\n",
       "\n",
       "        [[-1.3133, -1.3133],\n",
       "         [-1.3133, -1.3133]]], dtype=torch.float64)"
      ]
     },
     "execution_count": 23,
     "metadata": {},
     "output_type": "execute_result"
    }
   ],
   "source": [
    "F.log_softmax(block_tensor, dim=0)"
   ]
  },
  {
   "cell_type": "code",
   "execution_count": 22,
   "metadata": {},
   "outputs": [
    {
     "data": {
      "text/plain": [
       "tensor([[[-0.6931, -0.6931],\n",
       "         [-0.6931, -0.6931]],\n",
       "\n",
       "        [[-0.6931, -0.6931],\n",
       "         [-0.6931, -0.6931]]], dtype=torch.float64)"
      ]
     },
     "execution_count": 22,
     "metadata": {},
     "output_type": "execute_result"
    }
   ],
   "source": [
    "F.log_softmax(block_tensor, dim=1)"
   ]
  },
  {
   "cell_type": "code",
   "execution_count": 24,
   "metadata": {},
   "outputs": [
    {
     "name": "stdout",
     "output_type": "stream",
     "text": [
      "torch.Size([2, 2, 3])\n"
     ]
    },
    {
     "data": {
      "text/plain": [
       "tensor([[[  -1.5514,   -1.5514,   -0.5514],\n",
       "         [   0.0000, -100.0000, -100.0000]],\n",
       "\n",
       "        [[  -1.5514,   -0.5514,   -1.5514],\n",
       "         [  -1.8620,   -0.8620,   -0.8620]]])"
      ]
     },
     "execution_count": 24,
     "metadata": {},
     "output_type": "execute_result"
    }
   ],
   "source": [
    "t = torch.tensor([[[0.,0.,1.],[100.,0.,0.]],\n",
    "                  [[0.,1.,0.],[-1.,0.,0.]]])\n",
    "print(t.shape)\n",
    "F.log_softmax(t, dim=2)"
   ]
  },
  {
   "cell_type": "code",
   "execution_count": 25,
   "metadata": {},
   "outputs": [
    {
     "name": "stdout",
     "output_type": "stream",
     "text": [
      "torch.Size([2, 2, 3])\n"
     ]
    },
    {
     "data": {
      "text/plain": [
       "tensor([[[-100.0000,   -0.6931,   -0.3133],\n",
       "         [   0.0000,   -0.6931,   -1.3133]],\n",
       "\n",
       "        [[  -0.3133,   -0.3133,   -0.6931],\n",
       "         [  -1.3133,   -1.3133,   -0.6931]]])"
      ]
     },
     "execution_count": 25,
     "metadata": {},
     "output_type": "execute_result"
    }
   ],
   "source": [
    "t = torch.tensor([[[0.,0.,1.],[100.,0.,0.]],\n",
    "                  [[0.,1.,0.],[-1.,0.,0.]]])\n",
    "print(t.shape)\n",
    "F.log_softmax(t, dim=1)"
   ]
  },
  {
   "cell_type": "code",
   "execution_count": 26,
   "metadata": {},
   "outputs": [
    {
     "name": "stdout",
     "output_type": "stream",
     "text": [
      "torch.Size([2, 2, 3])\n"
     ]
    },
    {
     "data": {
      "text/plain": [
       "tensor([[[  -0.6931,   -1.3133,   -0.3133],\n",
       "         [   0.0000,   -0.6931,   -0.6931]],\n",
       "\n",
       "        [[  -0.6931,   -0.3133,   -1.3133],\n",
       "         [-101.0000,   -0.6931,   -0.6931]]])"
      ]
     },
     "execution_count": 26,
     "metadata": {},
     "output_type": "execute_result"
    }
   ],
   "source": [
    "t = torch.tensor([[[0.,0.,1.],[100.,0.,0.]],\n",
    "                  [[0.,1.,0.],[-1.,0.,0.]]])\n",
    "print(t.shape)\n",
    "F.log_softmax(t, dim=0)"
   ]
  },
  {
   "cell_type": "code",
   "execution_count": null,
   "metadata": {},
   "outputs": [],
   "source": []
  }
 ],
 "metadata": {
  "kernelspec": {
   "display_name": "Python 3",
   "language": "python",
   "name": "python3"
  },
  "language_info": {
   "codemirror_mode": {
    "name": "ipython",
    "version": 3
   },
   "file_extension": ".py",
   "mimetype": "text/x-python",
   "name": "python",
   "nbconvert_exporter": "python",
   "pygments_lexer": "ipython3",
   "version": "3.7.6"
  }
 },
 "nbformat": 4,
 "nbformat_minor": 4
}
