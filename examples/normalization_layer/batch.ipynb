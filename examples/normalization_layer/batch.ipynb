{
 "cells": [
  {
   "cell_type": "markdown",
   "metadata": {},
   "source": [
    "- batch 데이터들을 이용한 연산 결과 batch 에 대해 normalization 을 해준다.\n"
   ]
  },
  {
   "cell_type": "markdown",
   "metadata": {},
   "source": [
    "## batch2d\n",
    "[ref](https://pytorch.org/docs/stable/nn.html#batchnorm2d)"
   ]
  },
  {
   "cell_type": "markdown",
   "metadata": {},
   "source": [
    "- (batch 데이터들을 이용해 얻은) batch 연산 결과에 대해 normalization 을 해준다.\n",
    "- 그 중에서도 2d 연산 결과 feature 에 대한 함수\n",
    "\n",
    "### signature\n",
    "```\n",
    "torch.nn.BatchNorm2d(num_features, eps=1e-05, momentum=0.1, affine=True, track_running_stats=True)\n",
    "```\n",
    "### arguments\n",
    "- 주로 정해주어야 하는 것은 아래로, 채널 크기를 정해줘야 한다.\n",
    "    - num_features – `C` from an expected input of size `(N, C, H, W)`\n",
    "- 나머지\n",
    "    - eps – a value added to the denominator for numerical stability. Default: 1e-5\n",
    "\n",
    "    - momentum – the value used for the running_mean and running_var computation. Can be set to None for cumulative moving average (i.e. simple average). Default: 0.1\n",
    "\n",
    "    - affine – a boolean value that when set to True, this module has learnable affine parameters. Default: True\n",
    "\n",
    "    - track_running_stats – a boolean value that when set to True, this module tracks the running mean and variance, and when set to False, this module does not track such statistics and always uses batch statistics in both training and eval modes. Default: True\n"
   ]
  },
  {
   "cell_type": "code",
   "execution_count": null,
   "metadata": {},
   "outputs": [],
   "source": []
  }
 ],
 "metadata": {
  "kernelspec": {
   "display_name": "Python 3",
   "language": "python",
   "name": "python3"
  },
  "language_info": {
   "codemirror_mode": {
    "name": "ipython",
    "version": 3
   },
   "file_extension": ".py",
   "mimetype": "text/x-python",
   "name": "python",
   "nbconvert_exporter": "python",
   "pygments_lexer": "ipython3",
   "version": "3.7.6"
  }
 },
 "nbformat": 4,
 "nbformat_minor": 4
}
