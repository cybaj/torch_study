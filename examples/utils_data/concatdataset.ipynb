{
 "cells": [
  {
   "cell_type": "code",
   "execution_count": 1,
   "metadata": {},
   "outputs": [],
   "source": [
    "import torch"
   ]
  },
  {
   "cell_type": "markdown",
   "metadata": {},
   "source": [
    "#### ConcatDataset\n",
    "https://pytorch.org/docs/1.1.0/data.html#torch.utils.data.ConcatDataset"
   ]
  },
  {
   "cell_type": "markdown",
   "metadata": {},
   "source": [
    "##### torch.utils.data.concatDataset\n",
    "  \n",
    "Dataset to concatenate multiple datasets.  \n",
    "  \n",
    "Purpose: useful to assemble different existing datasets,  \n",
    "possibly large-scale datasets as the concatenation operation is done  \n",
    "in an on-the-fly manner.\n",
    "  \n",
    "parameters\n",
    "* **datasets (sequence)** – List of datasets to be concatenated\n",
    "\n"
   ]
  },
  {
   "cell_type": "code",
   "execution_count": 2,
   "metadata": {
    "scrolled": true
   },
   "outputs": [
    {
     "name": "stdout",
     "output_type": "stream",
     "text": [
      "Help on class ConcatDataset in module torch.utils.data.dataset:\n",
      "\n",
      "class ConcatDataset(Dataset)\n",
      " |  ConcatDataset(datasets)\n",
      " |  \n",
      " |  Dataset to concatenate multiple datasets.\n",
      " |  Purpose: useful to assemble different existing datasets, possibly\n",
      " |  large-scale datasets as the concatenation operation is done in an\n",
      " |  on-the-fly manner.\n",
      " |  \n",
      " |  Arguments:\n",
      " |      datasets (sequence): List of datasets to be concatenated\n",
      " |  \n",
      " |  Method resolution order:\n",
      " |      ConcatDataset\n",
      " |      Dataset\n",
      " |      builtins.object\n",
      " |  \n",
      " |  Methods defined here:\n",
      " |  \n",
      " |  __getitem__(self, idx)\n",
      " |  \n",
      " |  __init__(self, datasets)\n",
      " |      Initialize self.  See help(type(self)) for accurate signature.\n",
      " |  \n",
      " |  __len__(self)\n",
      " |  \n",
      " |  ----------------------------------------------------------------------\n",
      " |  Static methods defined here:\n",
      " |  \n",
      " |  cumsum(sequence)\n",
      " |  \n",
      " |  ----------------------------------------------------------------------\n",
      " |  Data descriptors defined here:\n",
      " |  \n",
      " |  cummulative_sizes\n",
      " |  \n",
      " |  ----------------------------------------------------------------------\n",
      " |  Methods inherited from Dataset:\n",
      " |  \n",
      " |  __add__(self, other)\n",
      " |  \n",
      " |  ----------------------------------------------------------------------\n",
      " |  Data descriptors inherited from Dataset:\n",
      " |  \n",
      " |  __dict__\n",
      " |      dictionary for instance variables (if defined)\n",
      " |  \n",
      " |  __weakref__\n",
      " |      list of weak references to the object (if defined)\n",
      "\n"
     ]
    }
   ],
   "source": [
    "from torch.utils.data import ConcatDataset\n",
    "help(ConcatDataset)"
   ]
  },
  {
   "cell_type": "markdown",
   "metadata": {},
   "source": [
    "concatenation of datasets"
   ]
  },
  {
   "cell_type": "code",
   "execution_count": 4,
   "metadata": {},
   "outputs": [
    {
     "data": {
      "text/plain": [
       "'\\ncats = CatDogDataset(cat_files, train_dir, transform = data_transform)\\ndogs = CatDogDataset(dog_files, train_dir, transform = data_transform)\\n'"
      ]
     },
     "execution_count": 4,
     "metadata": {},
     "output_type": "execute_result"
    }
   ],
   "source": [
    "'''\n",
    "cats = CatDogDataset(cat_files, train_dir, transform = data_transform)\n",
    "dogs = CatDogDataset(dog_files, train_dir, transform = data_transform)\n",
    "'''\n",
    "\n",
    "# catdogs = ConcatDataset([cats, dogs])\n"
   ]
  },
  {
   "cell_type": "code",
   "execution_count": null,
   "metadata": {},
   "outputs": [],
   "source": []
  }
 ],
 "metadata": {
  "kernelspec": {
   "display_name": "Python 3",
   "language": "python",
   "name": "python3"
  },
  "language_info": {
   "codemirror_mode": {
    "name": "ipython",
    "version": 3
   },
   "file_extension": ".py",
   "mimetype": "text/x-python",
   "name": "python",
   "nbconvert_exporter": "python",
   "pygments_lexer": "ipython3",
   "version": "3.7.1"
  }
 },
 "nbformat": 4,
 "nbformat_minor": 2
}
